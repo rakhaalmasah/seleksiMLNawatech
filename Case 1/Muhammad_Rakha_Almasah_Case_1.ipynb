{
  "cells": [
    {
      "cell_type": "markdown",
      "metadata": {
        "id": "uqK4jom9oDxT"
      },
      "source": [
        "#**Case 1 | Task 1**"
      ]
    },
    {
      "cell_type": "markdown",
      "metadata": {
        "id": "BTuiit8pm96E"
      },
      "source": [
        "### Data & Visualisasi\n",
        "\n",
        "- **`import pandas as pd`**  \n",
        "  Untuk membaca, memanipulasi, dan menganalisis data dalam bentuk tabel (DataFrame). Sangat cocok untuk eksplorasi dataset.\n",
        "\n",
        "- **`import numpy as np`**  \n",
        "  Digunakan untuk operasi numerik seperti array, statistik, dan perhitungan matematis lainnya.\n",
        "\n",
        "- **`import matplotlib.pyplot as plt`**  \n",
        "  Library visualisasi dasar untuk membuat grafik seperti garis, batang, dan sebaran. Digunakan untuk menampilkan grafik akurasi dan loss model.\n",
        "\n",
        "- **`import seaborn as sns`**  \n",
        "  Digunakan untuk membuat visualisasi statistik yang lebih menarik dan informatif, seperti confusion matrix dalam bentuk heatmap.\n",
        "\n",
        "---\n",
        "\n",
        "### Pembersihan & Manipulasi Teks\n",
        "\n",
        "- **`import re`**  \n",
        "  Digunakan untuk membersihkan teks menggunakan pola regex, seperti menghapus tag `<USER_MENTION>`, simbol, atau URL.\n",
        "\n",
        "- **`import string`**  \n",
        "  Untuk mengelola karakter dan tanda baca pada teks, misalnya menghapus tanda baca saat preprocessing.\n",
        "\n",
        "---\n",
        "\n",
        "### Machine Learning & Deep Learning\n",
        "\n",
        "- **`import tensorflow as tf`**  \n",
        "  Framework utama untuk membangun dan melatih model deep learning.\n",
        "\n",
        "- **`from tensorflow import keras`**  \n",
        "  API tingkat tinggi dari TensorFlow untuk membangun dan melatih model neural network secara lebih praktis.\n",
        "\n",
        "- **`from tensorflow.keras.preprocessing.text import Tokenizer`**  \n",
        "  Untuk mengubah teks menjadi token angka (integer), langkah penting dalam Natural Language Processing (NLP).\n",
        "\n",
        "- **`from tensorflow.keras.preprocessing.sequence import pad_sequences`**  \n",
        "  Digunakan untuk menyamakan panjang semua input teks (padding) agar bisa diproses oleh model.\n",
        "\n",
        "- **`from tensorflow.keras import layers`**  \n",
        "  Berisi layer-layer seperti `Embedding`, `LSTM`, `Dense`, dan `Dropout` yang digunakan dalam membangun model neural network.\n",
        "\n",
        "---\n",
        "\n",
        "### Evaluasi & Pembagian Data\n",
        "\n",
        "- **`from sklearn.model_selection import train_test_split`**  \n",
        "  Untuk membagi dataset menjadi data latih (`train`) dan data uji (`test`).\n",
        "\n",
        "- **`from sklearn.preprocessing import LabelEncoder`**  \n",
        "  Digunakan untuk mengubah label teks (seperti \"positive\", \"negative\") menjadi angka (0 dan 1).\n",
        "\n",
        "- **`from sklearn.metrics import classification_report, confusion_matrix`**  \n",
        "  Digunakan untuk mengevaluasi performa model klasifikasi melalui metrik seperti precision, recall, f1-score, dan membuat confusion matrix.\n"
      ]
    },
    {
      "cell_type": "code",
      "execution_count": 1,
      "metadata": {
        "id": "eeRo90Bndd4e"
      },
      "outputs": [],
      "source": [
        "import pandas as pd\n",
        "import numpy as np\n",
        "import matplotlib.pyplot as plt\n",
        "import seaborn as sns\n",
        "import re\n",
        "import string\n",
        "import tensorflow as tf\n",
        "from tensorflow import keras\n",
        "from tensorflow.keras.preprocessing.text import Tokenizer\n",
        "from tensorflow.keras.preprocessing.sequence import pad_sequences\n",
        "from tensorflow.keras import layers\n",
        "from sklearn.model_selection import train_test_split\n",
        "from sklearn.preprocessing import LabelEncoder\n",
        "from sklearn.metrics import classification_report, confusion_matrix"
      ]
    },
    {
      "cell_type": "markdown",
      "metadata": {
        "id": "bKd2wm5TnNm_"
      },
      "source": [
        "### Hyperparameter Tuning\n",
        "\n",
        "- **`!pip install -q keras-tuner`**  \n",
        "  Perintah untuk menginstal library **Keras Tuner** di Google Colab. Digunakan untuk melakukan pencarian otomatis terhadap kombinasi hyperparameter terbaik dalam model deep learning.\n",
        "\n",
        "- **`import keras_tuner as kt`**  \n",
        "  Mengimpor library `keras_tuner` dan menyingkatnya menjadi `kt`, sehingga bisa digunakan untuk membuat objek tuner seperti `kt.Hyperband` atau `kt.RandomSearch`.\n"
      ]
    },
    {
      "cell_type": "code",
      "execution_count": 2,
      "metadata": {
        "colab": {
          "base_uri": "https://localhost:8080/"
        },
        "id": "BY0HxffYfgQf",
        "outputId": "02bfcdf9-8fb9-4f9c-cb14-078ea54c39b4"
      },
      "outputs": [
        {
          "name": "stdout",
          "output_type": "stream",
          "text": [
            "\u001b[?25l   \u001b[90m━━━━━━━━━━━━━━━━━━━━━━━━━━━━━━━━━━━━━━━━\u001b[0m \u001b[32m0.0/129.1 kB\u001b[0m \u001b[31m?\u001b[0m eta \u001b[36m-:--:--\u001b[0m\r\u001b[2K   \u001b[90m━━━━━━━━━━━━━━━━━━━━━━━━━━━━━━━━━━━━━━━━\u001b[0m \u001b[32m129.1/129.1 kB\u001b[0m \u001b[31m8.8 MB/s\u001b[0m eta \u001b[36m0:00:00\u001b[0m\n",
            "\u001b[?25h"
          ]
        }
      ],
      "source": [
        "!pip install -q keras-tuner\n",
        "import keras_tuner as kt"
      ]
    },
    {
      "cell_type": "markdown",
      "metadata": {
        "id": "Xpijt_T_neBD"
      },
      "source": [
        "### Upload File dari Komputer Lokal\n",
        "\n",
        "- **`from google.colab import files`**  \n",
        "  Mengimpor modul `files` dari Google Colab yang memungkinkan pengguna mengunggah file dari komputer lokal ke lingkungan Colab.\n",
        "\n",
        "- **`uploaded = files.upload()`**  \n",
        "  Menjalankan fungsi upload untuk memilih dan mengunggah file dari perangkat pengguna. File yang diunggah akan tersedia di direktori kerja saat runtime aktif."
      ]
    },
    {
      "cell_type": "code",
      "execution_count": 3,
      "metadata": {
        "colab": {
          "base_uri": "https://localhost:8080/",
          "height": 73
        },
        "id": "rPW0hQbhfkOR",
        "outputId": "e6224b91-dc30-448d-d588-d3a643c7c3d0"
      },
      "outputs": [
        {
          "data": {
            "text/html": [
              "\n",
              "     <input type=\"file\" id=\"files-07c91e06-1456-40e9-a5e8-9f1e5c2b1cac\" name=\"files[]\" multiple disabled\n",
              "        style=\"border:none\" />\n",
              "     <output id=\"result-07c91e06-1456-40e9-a5e8-9f1e5c2b1cac\">\n",
              "      Upload widget is only available when the cell has been executed in the\n",
              "      current browser session. Please rerun this cell to enable.\n",
              "      </output>\n",
              "      <script>// Copyright 2017 Google LLC\n",
              "//\n",
              "// Licensed under the Apache License, Version 2.0 (the \"License\");\n",
              "// you may not use this file except in compliance with the License.\n",
              "// You may obtain a copy of the License at\n",
              "//\n",
              "//      http://www.apache.org/licenses/LICENSE-2.0\n",
              "//\n",
              "// Unless required by applicable law or agreed to in writing, software\n",
              "// distributed under the License is distributed on an \"AS IS\" BASIS,\n",
              "// WITHOUT WARRANTIES OR CONDITIONS OF ANY KIND, either express or implied.\n",
              "// See the License for the specific language governing permissions and\n",
              "// limitations under the License.\n",
              "\n",
              "/**\n",
              " * @fileoverview Helpers for google.colab Python module.\n",
              " */\n",
              "(function(scope) {\n",
              "function span(text, styleAttributes = {}) {\n",
              "  const element = document.createElement('span');\n",
              "  element.textContent = text;\n",
              "  for (const key of Object.keys(styleAttributes)) {\n",
              "    element.style[key] = styleAttributes[key];\n",
              "  }\n",
              "  return element;\n",
              "}\n",
              "\n",
              "// Max number of bytes which will be uploaded at a time.\n",
              "const MAX_PAYLOAD_SIZE = 100 * 1024;\n",
              "\n",
              "function _uploadFiles(inputId, outputId) {\n",
              "  const steps = uploadFilesStep(inputId, outputId);\n",
              "  const outputElement = document.getElementById(outputId);\n",
              "  // Cache steps on the outputElement to make it available for the next call\n",
              "  // to uploadFilesContinue from Python.\n",
              "  outputElement.steps = steps;\n",
              "\n",
              "  return _uploadFilesContinue(outputId);\n",
              "}\n",
              "\n",
              "// This is roughly an async generator (not supported in the browser yet),\n",
              "// where there are multiple asynchronous steps and the Python side is going\n",
              "// to poll for completion of each step.\n",
              "// This uses a Promise to block the python side on completion of each step,\n",
              "// then passes the result of the previous step as the input to the next step.\n",
              "function _uploadFilesContinue(outputId) {\n",
              "  const outputElement = document.getElementById(outputId);\n",
              "  const steps = outputElement.steps;\n",
              "\n",
              "  const next = steps.next(outputElement.lastPromiseValue);\n",
              "  return Promise.resolve(next.value.promise).then((value) => {\n",
              "    // Cache the last promise value to make it available to the next\n",
              "    // step of the generator.\n",
              "    outputElement.lastPromiseValue = value;\n",
              "    return next.value.response;\n",
              "  });\n",
              "}\n",
              "\n",
              "/**\n",
              " * Generator function which is called between each async step of the upload\n",
              " * process.\n",
              " * @param {string} inputId Element ID of the input file picker element.\n",
              " * @param {string} outputId Element ID of the output display.\n",
              " * @return {!Iterable<!Object>} Iterable of next steps.\n",
              " */\n",
              "function* uploadFilesStep(inputId, outputId) {\n",
              "  const inputElement = document.getElementById(inputId);\n",
              "  inputElement.disabled = false;\n",
              "\n",
              "  const outputElement = document.getElementById(outputId);\n",
              "  outputElement.innerHTML = '';\n",
              "\n",
              "  const pickedPromise = new Promise((resolve) => {\n",
              "    inputElement.addEventListener('change', (e) => {\n",
              "      resolve(e.target.files);\n",
              "    });\n",
              "  });\n",
              "\n",
              "  const cancel = document.createElement('button');\n",
              "  inputElement.parentElement.appendChild(cancel);\n",
              "  cancel.textContent = 'Cancel upload';\n",
              "  const cancelPromise = new Promise((resolve) => {\n",
              "    cancel.onclick = () => {\n",
              "      resolve(null);\n",
              "    };\n",
              "  });\n",
              "\n",
              "  // Wait for the user to pick the files.\n",
              "  const files = yield {\n",
              "    promise: Promise.race([pickedPromise, cancelPromise]),\n",
              "    response: {\n",
              "      action: 'starting',\n",
              "    }\n",
              "  };\n",
              "\n",
              "  cancel.remove();\n",
              "\n",
              "  // Disable the input element since further picks are not allowed.\n",
              "  inputElement.disabled = true;\n",
              "\n",
              "  if (!files) {\n",
              "    return {\n",
              "      response: {\n",
              "        action: 'complete',\n",
              "      }\n",
              "    };\n",
              "  }\n",
              "\n",
              "  for (const file of files) {\n",
              "    const li = document.createElement('li');\n",
              "    li.append(span(file.name, {fontWeight: 'bold'}));\n",
              "    li.append(span(\n",
              "        `(${file.type || 'n/a'}) - ${file.size} bytes, ` +\n",
              "        `last modified: ${\n",
              "            file.lastModifiedDate ? file.lastModifiedDate.toLocaleDateString() :\n",
              "                                    'n/a'} - `));\n",
              "    const percent = span('0% done');\n",
              "    li.appendChild(percent);\n",
              "\n",
              "    outputElement.appendChild(li);\n",
              "\n",
              "    const fileDataPromise = new Promise((resolve) => {\n",
              "      const reader = new FileReader();\n",
              "      reader.onload = (e) => {\n",
              "        resolve(e.target.result);\n",
              "      };\n",
              "      reader.readAsArrayBuffer(file);\n",
              "    });\n",
              "    // Wait for the data to be ready.\n",
              "    let fileData = yield {\n",
              "      promise: fileDataPromise,\n",
              "      response: {\n",
              "        action: 'continue',\n",
              "      }\n",
              "    };\n",
              "\n",
              "    // Use a chunked sending to avoid message size limits. See b/62115660.\n",
              "    let position = 0;\n",
              "    do {\n",
              "      const length = Math.min(fileData.byteLength - position, MAX_PAYLOAD_SIZE);\n",
              "      const chunk = new Uint8Array(fileData, position, length);\n",
              "      position += length;\n",
              "\n",
              "      const base64 = btoa(String.fromCharCode.apply(null, chunk));\n",
              "      yield {\n",
              "        response: {\n",
              "          action: 'append',\n",
              "          file: file.name,\n",
              "          data: base64,\n",
              "        },\n",
              "      };\n",
              "\n",
              "      let percentDone = fileData.byteLength === 0 ?\n",
              "          100 :\n",
              "          Math.round((position / fileData.byteLength) * 100);\n",
              "      percent.textContent = `${percentDone}% done`;\n",
              "\n",
              "    } while (position < fileData.byteLength);\n",
              "  }\n",
              "\n",
              "  // All done.\n",
              "  yield {\n",
              "    response: {\n",
              "      action: 'complete',\n",
              "    }\n",
              "  };\n",
              "}\n",
              "\n",
              "scope.google = scope.google || {};\n",
              "scope.google.colab = scope.google.colab || {};\n",
              "scope.google.colab._files = {\n",
              "  _uploadFiles,\n",
              "  _uploadFilesContinue,\n",
              "};\n",
              "})(self);\n",
              "</script> "
            ],
            "text/plain": [
              "<IPython.core.display.HTML object>"
            ]
          },
          "metadata": {},
          "output_type": "display_data"
        },
        {
          "name": "stdout",
          "output_type": "stream",
          "text": [
            "Saving dataset_tweet_sentiment_cellular_service_provider.csv to dataset_tweet_sentiment_cellular_service_provider.csv\n"
          ]
        }
      ],
      "source": [
        "from google.colab import files\n",
        "uploaded = files.upload()"
      ]
    },
    {
      "cell_type": "markdown",
      "metadata": {
        "id": "KtH_97sonmmS"
      },
      "source": [
        "### Membaca Dataset dan Melihat Struktur Awal\n",
        "\n",
        "- **`df = pd.read_csv('dataset_tweet_sentiment_cellular_service_provider.csv')`**  \n",
        "  Membaca file CSV dan memuatnya ke dalam bentuk DataFrame bernama `df` menggunakan pandas.\n",
        "\n",
        "- **`print(\"Jumlah data:\", df.shape)`**  \n",
        "  Menampilkan jumlah baris dan kolom dalam dataset (jumlah data dan fitur).\n",
        "\n",
        "- **`df.head()`**  \n",
        "  Menampilkan 5 baris pertama dari DataFrame untuk melihat sekilas isi data.\n"
      ]
    },
    {
      "cell_type": "code",
      "execution_count": 4,
      "metadata": {
        "colab": {
          "base_uri": "https://localhost:8080/"
        },
        "id": "36ez5Nacfn7r",
        "outputId": "3f5aa318-cf92-4665-8ca2-9e41944cd2e9"
      },
      "outputs": [
        {
          "name": "stdout",
          "output_type": "stream",
          "text": [
            "Jumlah data: (300, 3)\n"
          ]
        }
      ],
      "source": [
        "df = pd.read_csv('dataset_tweet_sentiment_cellular_service_provider.csv')\n",
        "print(\"Jumlah data:\", df.shape)"
      ]
    },
    {
      "cell_type": "code",
      "execution_count": 5,
      "metadata": {
        "colab": {
          "base_uri": "https://localhost:8080/",
          "height": 206
        },
        "id": "5AzVpldUi3sR",
        "outputId": "d047fca2-3b13-487e-d458-9c99745d28dd"
      },
      "outputs": [
        {
          "data": {
            "application/vnd.google.colaboratory.intrinsic+json": {
              "summary": "{\n  \"name\": \"df\",\n  \"rows\": 300,\n  \"fields\": [\n    {\n      \"column\": \"Id\",\n      \"properties\": {\n        \"dtype\": \"number\",\n        \"std\": 86,\n        \"min\": 1,\n        \"max\": 300,\n        \"num_unique_values\": 300,\n        \"samples\": [\n          204,\n          267,\n          153\n        ],\n        \"semantic_type\": \"\",\n        \"description\": \"\"\n      }\n    },\n    {\n      \"column\": \"Sentiment\",\n      \"properties\": {\n        \"dtype\": \"category\",\n        \"num_unique_values\": 2,\n        \"samples\": [\n          \"negative\",\n          \"positive\"\n        ],\n        \"semantic_type\": \"\",\n        \"description\": \"\"\n      }\n    },\n    {\n      \"column\": \"Text Tweet\",\n      \"properties\": {\n        \"dtype\": \"string\",\n        \"num_unique_values\": 298,\n        \"samples\": [\n          \"Uji kecepatan <PRODUCT_NAME> #opensignal-ku di <PROVIDER_NAME> 3G <PROVIDER_NAME> disini jelek\",\n          \"<PROVIDER_NAME> Hooq sangat tidak bermanfaat. Beli kuota bisa menonton di youtube gak perlu Hooq #rugi <PRODUCT_NAME> #kuota <PROVIDER_NAME> \"\n        ],\n        \"semantic_type\": \"\",\n        \"description\": \"\"\n      }\n    }\n  ]\n}",
              "type": "dataframe",
              "variable_name": "df"
            },
            "text/html": [
              "\n",
              "  <div id=\"df-28083d5e-8b5c-41f8-89d6-e2eb85f0c01a\" class=\"colab-df-container\">\n",
              "    <div>\n",
              "<style scoped>\n",
              "    .dataframe tbody tr th:only-of-type {\n",
              "        vertical-align: middle;\n",
              "    }\n",
              "\n",
              "    .dataframe tbody tr th {\n",
              "        vertical-align: top;\n",
              "    }\n",
              "\n",
              "    .dataframe thead th {\n",
              "        text-align: right;\n",
              "    }\n",
              "</style>\n",
              "<table border=\"1\" class=\"dataframe\">\n",
              "  <thead>\n",
              "    <tr style=\"text-align: right;\">\n",
              "      <th></th>\n",
              "      <th>Id</th>\n",
              "      <th>Sentiment</th>\n",
              "      <th>Text Tweet</th>\n",
              "    </tr>\n",
              "  </thead>\n",
              "  <tbody>\n",
              "    <tr>\n",
              "      <th>0</th>\n",
              "      <td>1</td>\n",
              "      <td>positive</td>\n",
              "      <td>&lt;USER_MENTION&gt; #BOIKOT_&lt;PROVIDER_NAME&gt; Gunakan...</td>\n",
              "    </tr>\n",
              "    <tr>\n",
              "      <th>1</th>\n",
              "      <td>2</td>\n",
              "      <td>positive</td>\n",
              "      <td>Saktinya balik lagi, alhamdulillah :v &lt;PROVIDE...</td>\n",
              "    </tr>\n",
              "    <tr>\n",
              "      <th>2</th>\n",
              "      <td>3</td>\n",
              "      <td>negative</td>\n",
              "      <td>Selamat pagi &lt;PROVIDER_NAME&gt;  bisa bantu kenap...</td>\n",
              "    </tr>\n",
              "    <tr>\n",
              "      <th>3</th>\n",
              "      <td>4</td>\n",
              "      <td>negative</td>\n",
              "      <td>Dear &lt;PROVIDER_NAME&gt; akhir2 ini jaringan data ...</td>\n",
              "    </tr>\n",
              "    <tr>\n",
              "      <th>4</th>\n",
              "      <td>5</td>\n",
              "      <td>negative</td>\n",
              "      <td>Selamat malam PENDUSTA &lt;PROVIDER_NAME&gt;</td>\n",
              "    </tr>\n",
              "  </tbody>\n",
              "</table>\n",
              "</div>\n",
              "    <div class=\"colab-df-buttons\">\n",
              "\n",
              "  <div class=\"colab-df-container\">\n",
              "    <button class=\"colab-df-convert\" onclick=\"convertToInteractive('df-28083d5e-8b5c-41f8-89d6-e2eb85f0c01a')\"\n",
              "            title=\"Convert this dataframe to an interactive table.\"\n",
              "            style=\"display:none;\">\n",
              "\n",
              "  <svg xmlns=\"http://www.w3.org/2000/svg\" height=\"24px\" viewBox=\"0 -960 960 960\">\n",
              "    <path d=\"M120-120v-720h720v720H120Zm60-500h600v-160H180v160Zm220 220h160v-160H400v160Zm0 220h160v-160H400v160ZM180-400h160v-160H180v160Zm440 0h160v-160H620v160ZM180-180h160v-160H180v160Zm440 0h160v-160H620v160Z\"/>\n",
              "  </svg>\n",
              "    </button>\n",
              "\n",
              "  <style>\n",
              "    .colab-df-container {\n",
              "      display:flex;\n",
              "      gap: 12px;\n",
              "    }\n",
              "\n",
              "    .colab-df-convert {\n",
              "      background-color: #E8F0FE;\n",
              "      border: none;\n",
              "      border-radius: 50%;\n",
              "      cursor: pointer;\n",
              "      display: none;\n",
              "      fill: #1967D2;\n",
              "      height: 32px;\n",
              "      padding: 0 0 0 0;\n",
              "      width: 32px;\n",
              "    }\n",
              "\n",
              "    .colab-df-convert:hover {\n",
              "      background-color: #E2EBFA;\n",
              "      box-shadow: 0px 1px 2px rgba(60, 64, 67, 0.3), 0px 1px 3px 1px rgba(60, 64, 67, 0.15);\n",
              "      fill: #174EA6;\n",
              "    }\n",
              "\n",
              "    .colab-df-buttons div {\n",
              "      margin-bottom: 4px;\n",
              "    }\n",
              "\n",
              "    [theme=dark] .colab-df-convert {\n",
              "      background-color: #3B4455;\n",
              "      fill: #D2E3FC;\n",
              "    }\n",
              "\n",
              "    [theme=dark] .colab-df-convert:hover {\n",
              "      background-color: #434B5C;\n",
              "      box-shadow: 0px 1px 3px 1px rgba(0, 0, 0, 0.15);\n",
              "      filter: drop-shadow(0px 1px 2px rgba(0, 0, 0, 0.3));\n",
              "      fill: #FFFFFF;\n",
              "    }\n",
              "  </style>\n",
              "\n",
              "    <script>\n",
              "      const buttonEl =\n",
              "        document.querySelector('#df-28083d5e-8b5c-41f8-89d6-e2eb85f0c01a button.colab-df-convert');\n",
              "      buttonEl.style.display =\n",
              "        google.colab.kernel.accessAllowed ? 'block' : 'none';\n",
              "\n",
              "      async function convertToInteractive(key) {\n",
              "        const element = document.querySelector('#df-28083d5e-8b5c-41f8-89d6-e2eb85f0c01a');\n",
              "        const dataTable =\n",
              "          await google.colab.kernel.invokeFunction('convertToInteractive',\n",
              "                                                    [key], {});\n",
              "        if (!dataTable) return;\n",
              "\n",
              "        const docLinkHtml = 'Like what you see? Visit the ' +\n",
              "          '<a target=\"_blank\" href=https://colab.research.google.com/notebooks/data_table.ipynb>data table notebook</a>'\n",
              "          + ' to learn more about interactive tables.';\n",
              "        element.innerHTML = '';\n",
              "        dataTable['output_type'] = 'display_data';\n",
              "        await google.colab.output.renderOutput(dataTable, element);\n",
              "        const docLink = document.createElement('div');\n",
              "        docLink.innerHTML = docLinkHtml;\n",
              "        element.appendChild(docLink);\n",
              "      }\n",
              "    </script>\n",
              "  </div>\n",
              "\n",
              "\n",
              "    <div id=\"df-ba14232d-6935-4d66-9b21-646632bd3cba\">\n",
              "      <button class=\"colab-df-quickchart\" onclick=\"quickchart('df-ba14232d-6935-4d66-9b21-646632bd3cba')\"\n",
              "                title=\"Suggest charts\"\n",
              "                style=\"display:none;\">\n",
              "\n",
              "<svg xmlns=\"http://www.w3.org/2000/svg\" height=\"24px\"viewBox=\"0 0 24 24\"\n",
              "     width=\"24px\">\n",
              "    <g>\n",
              "        <path d=\"M19 3H5c-1.1 0-2 .9-2 2v14c0 1.1.9 2 2 2h14c1.1 0 2-.9 2-2V5c0-1.1-.9-2-2-2zM9 17H7v-7h2v7zm4 0h-2V7h2v10zm4 0h-2v-4h2v4z\"/>\n",
              "    </g>\n",
              "</svg>\n",
              "      </button>\n",
              "\n",
              "<style>\n",
              "  .colab-df-quickchart {\n",
              "      --bg-color: #E8F0FE;\n",
              "      --fill-color: #1967D2;\n",
              "      --hover-bg-color: #E2EBFA;\n",
              "      --hover-fill-color: #174EA6;\n",
              "      --disabled-fill-color: #AAA;\n",
              "      --disabled-bg-color: #DDD;\n",
              "  }\n",
              "\n",
              "  [theme=dark] .colab-df-quickchart {\n",
              "      --bg-color: #3B4455;\n",
              "      --fill-color: #D2E3FC;\n",
              "      --hover-bg-color: #434B5C;\n",
              "      --hover-fill-color: #FFFFFF;\n",
              "      --disabled-bg-color: #3B4455;\n",
              "      --disabled-fill-color: #666;\n",
              "  }\n",
              "\n",
              "  .colab-df-quickchart {\n",
              "    background-color: var(--bg-color);\n",
              "    border: none;\n",
              "    border-radius: 50%;\n",
              "    cursor: pointer;\n",
              "    display: none;\n",
              "    fill: var(--fill-color);\n",
              "    height: 32px;\n",
              "    padding: 0;\n",
              "    width: 32px;\n",
              "  }\n",
              "\n",
              "  .colab-df-quickchart:hover {\n",
              "    background-color: var(--hover-bg-color);\n",
              "    box-shadow: 0 1px 2px rgba(60, 64, 67, 0.3), 0 1px 3px 1px rgba(60, 64, 67, 0.15);\n",
              "    fill: var(--button-hover-fill-color);\n",
              "  }\n",
              "\n",
              "  .colab-df-quickchart-complete:disabled,\n",
              "  .colab-df-quickchart-complete:disabled:hover {\n",
              "    background-color: var(--disabled-bg-color);\n",
              "    fill: var(--disabled-fill-color);\n",
              "    box-shadow: none;\n",
              "  }\n",
              "\n",
              "  .colab-df-spinner {\n",
              "    border: 2px solid var(--fill-color);\n",
              "    border-color: transparent;\n",
              "    border-bottom-color: var(--fill-color);\n",
              "    animation:\n",
              "      spin 1s steps(1) infinite;\n",
              "  }\n",
              "\n",
              "  @keyframes spin {\n",
              "    0% {\n",
              "      border-color: transparent;\n",
              "      border-bottom-color: var(--fill-color);\n",
              "      border-left-color: var(--fill-color);\n",
              "    }\n",
              "    20% {\n",
              "      border-color: transparent;\n",
              "      border-left-color: var(--fill-color);\n",
              "      border-top-color: var(--fill-color);\n",
              "    }\n",
              "    30% {\n",
              "      border-color: transparent;\n",
              "      border-left-color: var(--fill-color);\n",
              "      border-top-color: var(--fill-color);\n",
              "      border-right-color: var(--fill-color);\n",
              "    }\n",
              "    40% {\n",
              "      border-color: transparent;\n",
              "      border-right-color: var(--fill-color);\n",
              "      border-top-color: var(--fill-color);\n",
              "    }\n",
              "    60% {\n",
              "      border-color: transparent;\n",
              "      border-right-color: var(--fill-color);\n",
              "    }\n",
              "    80% {\n",
              "      border-color: transparent;\n",
              "      border-right-color: var(--fill-color);\n",
              "      border-bottom-color: var(--fill-color);\n",
              "    }\n",
              "    90% {\n",
              "      border-color: transparent;\n",
              "      border-bottom-color: var(--fill-color);\n",
              "    }\n",
              "  }\n",
              "</style>\n",
              "\n",
              "      <script>\n",
              "        async function quickchart(key) {\n",
              "          const quickchartButtonEl =\n",
              "            document.querySelector('#' + key + ' button');\n",
              "          quickchartButtonEl.disabled = true;  // To prevent multiple clicks.\n",
              "          quickchartButtonEl.classList.add('colab-df-spinner');\n",
              "          try {\n",
              "            const charts = await google.colab.kernel.invokeFunction(\n",
              "                'suggestCharts', [key], {});\n",
              "          } catch (error) {\n",
              "            console.error('Error during call to suggestCharts:', error);\n",
              "          }\n",
              "          quickchartButtonEl.classList.remove('colab-df-spinner');\n",
              "          quickchartButtonEl.classList.add('colab-df-quickchart-complete');\n",
              "        }\n",
              "        (() => {\n",
              "          let quickchartButtonEl =\n",
              "            document.querySelector('#df-ba14232d-6935-4d66-9b21-646632bd3cba button');\n",
              "          quickchartButtonEl.style.display =\n",
              "            google.colab.kernel.accessAllowed ? 'block' : 'none';\n",
              "        })();\n",
              "      </script>\n",
              "    </div>\n",
              "\n",
              "    </div>\n",
              "  </div>\n"
            ],
            "text/plain": [
              "   Id Sentiment                                         Text Tweet\n",
              "0   1  positive  <USER_MENTION> #BOIKOT_<PROVIDER_NAME> Gunakan...\n",
              "1   2  positive  Saktinya balik lagi, alhamdulillah :v <PROVIDE...\n",
              "2   3  negative  Selamat pagi <PROVIDER_NAME>  bisa bantu kenap...\n",
              "3   4  negative  Dear <PROVIDER_NAME> akhir2 ini jaringan data ...\n",
              "4   5  negative            Selamat malam PENDUSTA <PROVIDER_NAME> "
            ]
          },
          "execution_count": 5,
          "metadata": {},
          "output_type": "execute_result"
        }
      ],
      "source": [
        "df.head()"
      ]
    },
    {
      "cell_type": "markdown",
      "metadata": {
        "id": "3QRgcaQxns_z"
      },
      "source": [
        "### Membersihkan Teks Tweet (Text Preprocessing)\n",
        "\n",
        "- **`def clean_text(text):`**  \n",
        "  Mendefinisikan fungsi `clean_text` untuk membersihkan teks dari karakter atau pola yang tidak diperlukan sebelum diproses oleh model.\n",
        "\n",
        "- **`text = text.lower()`**  \n",
        "  Mengubah semua huruf menjadi huruf kecil agar seragam.\n",
        "\n",
        "- **`re.sub(r'<.*?>', '', text)`**  \n",
        "  Menghapus tag seperti `<USER_MENTION>` atau `<PROVIDER_NAME>`.\n",
        "\n",
        "- **`re.sub(r\"http\\S+|www\\S+|https\\S+\", '', text)`**  \n",
        "  Menghapus URL atau tautan dari teks.\n",
        "\n",
        "- **`re.sub(r'\\@w+|\\#','', text)`**  \n",
        "  Menghapus simbol `@` dan `#` beserta teks setelahnya.\n",
        "\n",
        "- **`re.sub(r'[^A-Za-z\\s]', '', text)`**  \n",
        "  Menghapus semua karakter selain huruf dan spasi (tanda baca, angka, simbol).\n",
        "\n",
        "- **`re.sub(r'\\s+', ' ', text).strip()`**  \n",
        "  Menghapus spasi berlebih dan whitespace di awal/akhir teks.\n",
        "\n",
        "- **`df['clean_text'] = df['Text Tweet'].apply(clean_text)`**  \n",
        "  Menerapkan fungsi `clean_text` ke setiap baris pada kolom \"Text Tweet\" dan menyimpan hasilnya di kolom baru `clean_text`.\n"
      ]
    },
    {
      "cell_type": "code",
      "execution_count": 6,
      "metadata": {
        "id": "tqfyZON8frze"
      },
      "outputs": [],
      "source": [
        "def clean_text(text):\n",
        "    text = text.lower()\n",
        "    text = re.sub(r'<.*?>', '', text)\n",
        "    text = re.sub(r\"http\\S+|www\\S+|https\\S+\", '', text)\n",
        "    text = re.sub(r'\\@w+|\\#','', text)\n",
        "    text = re.sub(r'[^A-Za-z\\s]', '', text)\n",
        "    text = re.sub(r'\\s+', ' ', text).strip()\n",
        "    return text\n",
        "df['clean_text'] = df['Text Tweet'].apply(clean_text)"
      ]
    },
    {
      "cell_type": "code",
      "execution_count": 7,
      "metadata": {
        "colab": {
          "base_uri": "https://localhost:8080/",
          "height": 206
        },
        "id": "CEbxd8w4i6JS",
        "outputId": "d2deb6f5-8534-4c6d-f792-8e7ff400744f"
      },
      "outputs": [
        {
          "data": {
            "application/vnd.google.colaboratory.intrinsic+json": {
              "summary": "{\n  \"name\": \"df\",\n  \"rows\": 300,\n  \"fields\": [\n    {\n      \"column\": \"Id\",\n      \"properties\": {\n        \"dtype\": \"number\",\n        \"std\": 86,\n        \"min\": 1,\n        \"max\": 300,\n        \"num_unique_values\": 300,\n        \"samples\": [\n          204,\n          267,\n          153\n        ],\n        \"semantic_type\": \"\",\n        \"description\": \"\"\n      }\n    },\n    {\n      \"column\": \"Sentiment\",\n      \"properties\": {\n        \"dtype\": \"category\",\n        \"num_unique_values\": 2,\n        \"samples\": [\n          \"negative\",\n          \"positive\"\n        ],\n        \"semantic_type\": \"\",\n        \"description\": \"\"\n      }\n    },\n    {\n      \"column\": \"Text Tweet\",\n      \"properties\": {\n        \"dtype\": \"string\",\n        \"num_unique_values\": 298,\n        \"samples\": [\n          \"Uji kecepatan <PRODUCT_NAME> #opensignal-ku di <PROVIDER_NAME> 3G <PROVIDER_NAME> disini jelek\",\n          \"<PROVIDER_NAME> Hooq sangat tidak bermanfaat. Beli kuota bisa menonton di youtube gak perlu Hooq #rugi <PRODUCT_NAME> #kuota <PROVIDER_NAME> \"\n        ],\n        \"semantic_type\": \"\",\n        \"description\": \"\"\n      }\n    },\n    {\n      \"column\": \"clean_text\",\n      \"properties\": {\n        \"dtype\": \"string\",\n        \"num_unique_values\": 294,\n        \"samples\": [\n          \"alhamdulilah dikunjungi para vendor mitra ke klinikkumsda\",\n          \"bilboard iklan kok ada pesan tersembunyi boikot ramadhan\"\n        ],\n        \"semantic_type\": \"\",\n        \"description\": \"\"\n      }\n    }\n  ]\n}",
              "type": "dataframe",
              "variable_name": "df"
            },
            "text/html": [
              "\n",
              "  <div id=\"df-9c95b719-84f3-4832-886f-e1b65d6f3042\" class=\"colab-df-container\">\n",
              "    <div>\n",
              "<style scoped>\n",
              "    .dataframe tbody tr th:only-of-type {\n",
              "        vertical-align: middle;\n",
              "    }\n",
              "\n",
              "    .dataframe tbody tr th {\n",
              "        vertical-align: top;\n",
              "    }\n",
              "\n",
              "    .dataframe thead th {\n",
              "        text-align: right;\n",
              "    }\n",
              "</style>\n",
              "<table border=\"1\" class=\"dataframe\">\n",
              "  <thead>\n",
              "    <tr style=\"text-align: right;\">\n",
              "      <th></th>\n",
              "      <th>Id</th>\n",
              "      <th>Sentiment</th>\n",
              "      <th>Text Tweet</th>\n",
              "      <th>clean_text</th>\n",
              "    </tr>\n",
              "  </thead>\n",
              "  <tbody>\n",
              "    <tr>\n",
              "      <th>0</th>\n",
              "      <td>1</td>\n",
              "      <td>positive</td>\n",
              "      <td>&lt;USER_MENTION&gt; #BOIKOT_&lt;PROVIDER_NAME&gt; Gunakan...</td>\n",
              "      <td>boikot gunakan produk bangsa sendiri</td>\n",
              "    </tr>\n",
              "    <tr>\n",
              "      <th>1</th>\n",
              "      <td>2</td>\n",
              "      <td>positive</td>\n",
              "      <td>Saktinya balik lagi, alhamdulillah :v &lt;PROVIDE...</td>\n",
              "      <td>saktinya balik lagi alhamdulillah v</td>\n",
              "    </tr>\n",
              "    <tr>\n",
              "      <th>2</th>\n",
              "      <td>3</td>\n",
              "      <td>negative</td>\n",
              "      <td>Selamat pagi &lt;PROVIDER_NAME&gt;  bisa bantu kenap...</td>\n",
              "      <td>selamat pagi bisa bantu kenapa di dalam kamar ...</td>\n",
              "    </tr>\n",
              "    <tr>\n",
              "      <th>3</th>\n",
              "      <td>4</td>\n",
              "      <td>negative</td>\n",
              "      <td>Dear &lt;PROVIDER_NAME&gt; akhir2 ini jaringan data ...</td>\n",
              "      <td>dear akhir ini jaringan data lemot banget pada...</td>\n",
              "    </tr>\n",
              "    <tr>\n",
              "      <th>4</th>\n",
              "      <td>5</td>\n",
              "      <td>negative</td>\n",
              "      <td>Selamat malam PENDUSTA &lt;PROVIDER_NAME&gt;</td>\n",
              "      <td>selamat malam pendusta</td>\n",
              "    </tr>\n",
              "  </tbody>\n",
              "</table>\n",
              "</div>\n",
              "    <div class=\"colab-df-buttons\">\n",
              "\n",
              "  <div class=\"colab-df-container\">\n",
              "    <button class=\"colab-df-convert\" onclick=\"convertToInteractive('df-9c95b719-84f3-4832-886f-e1b65d6f3042')\"\n",
              "            title=\"Convert this dataframe to an interactive table.\"\n",
              "            style=\"display:none;\">\n",
              "\n",
              "  <svg xmlns=\"http://www.w3.org/2000/svg\" height=\"24px\" viewBox=\"0 -960 960 960\">\n",
              "    <path d=\"M120-120v-720h720v720H120Zm60-500h600v-160H180v160Zm220 220h160v-160H400v160Zm0 220h160v-160H400v160ZM180-400h160v-160H180v160Zm440 0h160v-160H620v160ZM180-180h160v-160H180v160Zm440 0h160v-160H620v160Z\"/>\n",
              "  </svg>\n",
              "    </button>\n",
              "\n",
              "  <style>\n",
              "    .colab-df-container {\n",
              "      display:flex;\n",
              "      gap: 12px;\n",
              "    }\n",
              "\n",
              "    .colab-df-convert {\n",
              "      background-color: #E8F0FE;\n",
              "      border: none;\n",
              "      border-radius: 50%;\n",
              "      cursor: pointer;\n",
              "      display: none;\n",
              "      fill: #1967D2;\n",
              "      height: 32px;\n",
              "      padding: 0 0 0 0;\n",
              "      width: 32px;\n",
              "    }\n",
              "\n",
              "    .colab-df-convert:hover {\n",
              "      background-color: #E2EBFA;\n",
              "      box-shadow: 0px 1px 2px rgba(60, 64, 67, 0.3), 0px 1px 3px 1px rgba(60, 64, 67, 0.15);\n",
              "      fill: #174EA6;\n",
              "    }\n",
              "\n",
              "    .colab-df-buttons div {\n",
              "      margin-bottom: 4px;\n",
              "    }\n",
              "\n",
              "    [theme=dark] .colab-df-convert {\n",
              "      background-color: #3B4455;\n",
              "      fill: #D2E3FC;\n",
              "    }\n",
              "\n",
              "    [theme=dark] .colab-df-convert:hover {\n",
              "      background-color: #434B5C;\n",
              "      box-shadow: 0px 1px 3px 1px rgba(0, 0, 0, 0.15);\n",
              "      filter: drop-shadow(0px 1px 2px rgba(0, 0, 0, 0.3));\n",
              "      fill: #FFFFFF;\n",
              "    }\n",
              "  </style>\n",
              "\n",
              "    <script>\n",
              "      const buttonEl =\n",
              "        document.querySelector('#df-9c95b719-84f3-4832-886f-e1b65d6f3042 button.colab-df-convert');\n",
              "      buttonEl.style.display =\n",
              "        google.colab.kernel.accessAllowed ? 'block' : 'none';\n",
              "\n",
              "      async function convertToInteractive(key) {\n",
              "        const element = document.querySelector('#df-9c95b719-84f3-4832-886f-e1b65d6f3042');\n",
              "        const dataTable =\n",
              "          await google.colab.kernel.invokeFunction('convertToInteractive',\n",
              "                                                    [key], {});\n",
              "        if (!dataTable) return;\n",
              "\n",
              "        const docLinkHtml = 'Like what you see? Visit the ' +\n",
              "          '<a target=\"_blank\" href=https://colab.research.google.com/notebooks/data_table.ipynb>data table notebook</a>'\n",
              "          + ' to learn more about interactive tables.';\n",
              "        element.innerHTML = '';\n",
              "        dataTable['output_type'] = 'display_data';\n",
              "        await google.colab.output.renderOutput(dataTable, element);\n",
              "        const docLink = document.createElement('div');\n",
              "        docLink.innerHTML = docLinkHtml;\n",
              "        element.appendChild(docLink);\n",
              "      }\n",
              "    </script>\n",
              "  </div>\n",
              "\n",
              "\n",
              "    <div id=\"df-2d786bc3-d96f-4a9d-b1e7-b783545c3f22\">\n",
              "      <button class=\"colab-df-quickchart\" onclick=\"quickchart('df-2d786bc3-d96f-4a9d-b1e7-b783545c3f22')\"\n",
              "                title=\"Suggest charts\"\n",
              "                style=\"display:none;\">\n",
              "\n",
              "<svg xmlns=\"http://www.w3.org/2000/svg\" height=\"24px\"viewBox=\"0 0 24 24\"\n",
              "     width=\"24px\">\n",
              "    <g>\n",
              "        <path d=\"M19 3H5c-1.1 0-2 .9-2 2v14c0 1.1.9 2 2 2h14c1.1 0 2-.9 2-2V5c0-1.1-.9-2-2-2zM9 17H7v-7h2v7zm4 0h-2V7h2v10zm4 0h-2v-4h2v4z\"/>\n",
              "    </g>\n",
              "</svg>\n",
              "      </button>\n",
              "\n",
              "<style>\n",
              "  .colab-df-quickchart {\n",
              "      --bg-color: #E8F0FE;\n",
              "      --fill-color: #1967D2;\n",
              "      --hover-bg-color: #E2EBFA;\n",
              "      --hover-fill-color: #174EA6;\n",
              "      --disabled-fill-color: #AAA;\n",
              "      --disabled-bg-color: #DDD;\n",
              "  }\n",
              "\n",
              "  [theme=dark] .colab-df-quickchart {\n",
              "      --bg-color: #3B4455;\n",
              "      --fill-color: #D2E3FC;\n",
              "      --hover-bg-color: #434B5C;\n",
              "      --hover-fill-color: #FFFFFF;\n",
              "      --disabled-bg-color: #3B4455;\n",
              "      --disabled-fill-color: #666;\n",
              "  }\n",
              "\n",
              "  .colab-df-quickchart {\n",
              "    background-color: var(--bg-color);\n",
              "    border: none;\n",
              "    border-radius: 50%;\n",
              "    cursor: pointer;\n",
              "    display: none;\n",
              "    fill: var(--fill-color);\n",
              "    height: 32px;\n",
              "    padding: 0;\n",
              "    width: 32px;\n",
              "  }\n",
              "\n",
              "  .colab-df-quickchart:hover {\n",
              "    background-color: var(--hover-bg-color);\n",
              "    box-shadow: 0 1px 2px rgba(60, 64, 67, 0.3), 0 1px 3px 1px rgba(60, 64, 67, 0.15);\n",
              "    fill: var(--button-hover-fill-color);\n",
              "  }\n",
              "\n",
              "  .colab-df-quickchart-complete:disabled,\n",
              "  .colab-df-quickchart-complete:disabled:hover {\n",
              "    background-color: var(--disabled-bg-color);\n",
              "    fill: var(--disabled-fill-color);\n",
              "    box-shadow: none;\n",
              "  }\n",
              "\n",
              "  .colab-df-spinner {\n",
              "    border: 2px solid var(--fill-color);\n",
              "    border-color: transparent;\n",
              "    border-bottom-color: var(--fill-color);\n",
              "    animation:\n",
              "      spin 1s steps(1) infinite;\n",
              "  }\n",
              "\n",
              "  @keyframes spin {\n",
              "    0% {\n",
              "      border-color: transparent;\n",
              "      border-bottom-color: var(--fill-color);\n",
              "      border-left-color: var(--fill-color);\n",
              "    }\n",
              "    20% {\n",
              "      border-color: transparent;\n",
              "      border-left-color: var(--fill-color);\n",
              "      border-top-color: var(--fill-color);\n",
              "    }\n",
              "    30% {\n",
              "      border-color: transparent;\n",
              "      border-left-color: var(--fill-color);\n",
              "      border-top-color: var(--fill-color);\n",
              "      border-right-color: var(--fill-color);\n",
              "    }\n",
              "    40% {\n",
              "      border-color: transparent;\n",
              "      border-right-color: var(--fill-color);\n",
              "      border-top-color: var(--fill-color);\n",
              "    }\n",
              "    60% {\n",
              "      border-color: transparent;\n",
              "      border-right-color: var(--fill-color);\n",
              "    }\n",
              "    80% {\n",
              "      border-color: transparent;\n",
              "      border-right-color: var(--fill-color);\n",
              "      border-bottom-color: var(--fill-color);\n",
              "    }\n",
              "    90% {\n",
              "      border-color: transparent;\n",
              "      border-bottom-color: var(--fill-color);\n",
              "    }\n",
              "  }\n",
              "</style>\n",
              "\n",
              "      <script>\n",
              "        async function quickchart(key) {\n",
              "          const quickchartButtonEl =\n",
              "            document.querySelector('#' + key + ' button');\n",
              "          quickchartButtonEl.disabled = true;  // To prevent multiple clicks.\n",
              "          quickchartButtonEl.classList.add('colab-df-spinner');\n",
              "          try {\n",
              "            const charts = await google.colab.kernel.invokeFunction(\n",
              "                'suggestCharts', [key], {});\n",
              "          } catch (error) {\n",
              "            console.error('Error during call to suggestCharts:', error);\n",
              "          }\n",
              "          quickchartButtonEl.classList.remove('colab-df-spinner');\n",
              "          quickchartButtonEl.classList.add('colab-df-quickchart-complete');\n",
              "        }\n",
              "        (() => {\n",
              "          let quickchartButtonEl =\n",
              "            document.querySelector('#df-2d786bc3-d96f-4a9d-b1e7-b783545c3f22 button');\n",
              "          quickchartButtonEl.style.display =\n",
              "            google.colab.kernel.accessAllowed ? 'block' : 'none';\n",
              "        })();\n",
              "      </script>\n",
              "    </div>\n",
              "\n",
              "    </div>\n",
              "  </div>\n"
            ],
            "text/plain": [
              "   Id Sentiment                                         Text Tweet  \\\n",
              "0   1  positive  <USER_MENTION> #BOIKOT_<PROVIDER_NAME> Gunakan...   \n",
              "1   2  positive  Saktinya balik lagi, alhamdulillah :v <PROVIDE...   \n",
              "2   3  negative  Selamat pagi <PROVIDER_NAME>  bisa bantu kenap...   \n",
              "3   4  negative  Dear <PROVIDER_NAME> akhir2 ini jaringan data ...   \n",
              "4   5  negative            Selamat malam PENDUSTA <PROVIDER_NAME>    \n",
              "\n",
              "                                          clean_text  \n",
              "0               boikot gunakan produk bangsa sendiri  \n",
              "1                saktinya balik lagi alhamdulillah v  \n",
              "2  selamat pagi bisa bantu kenapa di dalam kamar ...  \n",
              "3  dear akhir ini jaringan data lemot banget pada...  \n",
              "4                             selamat malam pendusta  "
            ]
          },
          "execution_count": 7,
          "metadata": {},
          "output_type": "execute_result"
        }
      ],
      "source": [
        "df.head()"
      ]
    },
    {
      "cell_type": "markdown",
      "metadata": {
        "id": "ld0_rIgony46"
      },
      "source": [
        "### Melihat Distribusi Label Sentimen\n",
        "\n",
        "- **`df['Sentiment'].value_counts()`**  \n",
        "  Menghitung jumlah kemunculan masing-masing label sentimen (misalnya: positive, negative) dalam kolom `Sentiment`.  \n",
        "  Digunakan untuk mengetahui apakah data seimbang (balanced) atau tidak (imbalanced).\n"
      ]
    },
    {
      "cell_type": "code",
      "execution_count": 8,
      "metadata": {
        "colab": {
          "base_uri": "https://localhost:8080/",
          "height": 178
        },
        "id": "wa_Lb667fudY",
        "outputId": "b1670225-3188-4b64-f26f-2d510cf8c538"
      },
      "outputs": [
        {
          "data": {
            "text/html": [
              "<div>\n",
              "<style scoped>\n",
              "    .dataframe tbody tr th:only-of-type {\n",
              "        vertical-align: middle;\n",
              "    }\n",
              "\n",
              "    .dataframe tbody tr th {\n",
              "        vertical-align: top;\n",
              "    }\n",
              "\n",
              "    .dataframe thead th {\n",
              "        text-align: right;\n",
              "    }\n",
              "</style>\n",
              "<table border=\"1\" class=\"dataframe\">\n",
              "  <thead>\n",
              "    <tr style=\"text-align: right;\">\n",
              "      <th></th>\n",
              "      <th>count</th>\n",
              "    </tr>\n",
              "    <tr>\n",
              "      <th>Sentiment</th>\n",
              "      <th></th>\n",
              "    </tr>\n",
              "  </thead>\n",
              "  <tbody>\n",
              "    <tr>\n",
              "      <th>negative</th>\n",
              "      <td>161</td>\n",
              "    </tr>\n",
              "    <tr>\n",
              "      <th>positive</th>\n",
              "      <td>139</td>\n",
              "    </tr>\n",
              "  </tbody>\n",
              "</table>\n",
              "</div><br><label><b>dtype:</b> int64</label>"
            ],
            "text/plain": [
              "Sentiment\n",
              "negative    161\n",
              "positive    139\n",
              "Name: count, dtype: int64"
            ]
          },
          "execution_count": 8,
          "metadata": {},
          "output_type": "execute_result"
        }
      ],
      "source": [
        "df['Sentiment'].value_counts()"
      ]
    },
    {
      "cell_type": "markdown",
      "metadata": {
        "id": "CCON6aYBn4Jv"
      },
      "source": [
        "### Encoding Label dan Membagi Data\n",
        "\n",
        "- **`le = LabelEncoder()`**  \n",
        "  Membuat objek `LabelEncoder` dari scikit-learn untuk mengubah label sentimen dari bentuk teks (seperti 'positive', 'negative') menjadi angka (misalnya 0 dan 1).\n",
        "\n",
        "- **`df['label'] = le.fit_transform(df['Sentiment'])`**  \n",
        "  Mengubah isi kolom `Sentiment` menjadi label numerik dan menyimpannya dalam kolom baru bernama `label`.\n",
        "\n",
        "- **`X = df['clean_text']`**  \n",
        "  Menyimpan fitur (teks bersih hasil preprocessing) ke variabel `X`.\n",
        "\n",
        "- **`y = df['label']`**  \n",
        "  Menyimpan label hasil encoding ke variabel `y`.\n",
        "\n",
        "- **`X_train, X_test, y_train, y_test = train_test_split(X, y, test_size=0.2, random_state=42)`**  \n",
        "  Membagi dataset menjadi data latih dan data uji dengan rasio 80:20. Parameter `random_state=42` digunakan untuk memastikan hasil pembagian selalu sama jika dijalankan ulang.\n"
      ]
    },
    {
      "cell_type": "code",
      "execution_count": 9,
      "metadata": {
        "id": "kiw60mSTfxob"
      },
      "outputs": [],
      "source": [
        "le = LabelEncoder()\n",
        "df['label'] = le.fit_transform(df['Sentiment'])\n",
        "\n",
        "X = df['clean_text']\n",
        "y = df['label']\n",
        "\n",
        "X_train, X_test, y_train, y_test = train_test_split(X, y, test_size=0.2, random_state=42)"
      ]
    },
    {
      "cell_type": "markdown",
      "metadata": {
        "id": "sq6ol1inn7D5"
      },
      "source": [
        "### Tokenisasi dan Padding Data Teks\n",
        "\n",
        "- **`tokenizer = Tokenizer(num_words=10000, oov_token=\"<OOV>\")`**  \n",
        "  Membuat objek `Tokenizer` untuk mengubah teks menjadi token angka. Hanya 10.000 kata paling umum yang akan dipertahankan. Kata yang tidak dikenal akan digantikan oleh token \"<OOV>\".\n",
        "\n",
        "- **`tokenizer.fit_on_texts(X_train)`**  \n",
        "  Melatih tokenizer berdasarkan data latih untuk membangun kamus kata dan frekuensinya.\n",
        "\n",
        "- **`X_train_seq = tokenizer.texts_to_sequences(X_train)`**  \n",
        "  Mengubah teks pada data latih menjadi urutan angka sesuai dengan kamus yang sudah dibangun.\n",
        "\n",
        "- **`X_test_seq = tokenizer.texts_to_sequences(X_test)`**  \n",
        "  Mengubah teks pada data uji menjadi urutan angka menggunakan tokenizer yang sama.\n",
        "\n",
        "- **`max_len = max([len(seq) for seq in X_train_seq])`**  \n",
        "  Menentukan panjang urutan maksimum berdasarkan data latih. Nilai ini akan digunakan untuk padding agar semua input memiliki panjang yang seragam.\n",
        "\n",
        "- **`X_train_pad = pad_sequences(X_train_seq, maxlen=max_len, padding='post')`**  \n",
        "  Melakukan padding pada urutan data latih hingga panjang `max_len` dengan menambahkan nol di akhir (`padding='post'`).\n",
        "\n",
        "- **`X_test_pad = pad_sequences(X_test_seq, maxlen=max_len, padding='post')`**  \n",
        "  Melakukan hal yang sama untuk data uji agar model bisa memproses input dengan bentuk yang konsisten.\n"
      ]
    },
    {
      "cell_type": "code",
      "execution_count": 10,
      "metadata": {
        "id": "0KGLM19If1gp"
      },
      "outputs": [],
      "source": [
        "tokenizer = Tokenizer(num_words=10000, oov_token=\"<OOV>\")\n",
        "tokenizer.fit_on_texts(X_train)\n",
        "\n",
        "X_train_seq = tokenizer.texts_to_sequences(X_train)\n",
        "X_test_seq = tokenizer.texts_to_sequences(X_test)\n",
        "\n",
        "max_len = max([len(seq) for seq in X_train_seq])\n",
        "X_train_pad = pad_sequences(X_train_seq, maxlen=max_len, padding='post')\n",
        "X_test_pad = pad_sequences(X_test_seq, maxlen=max_len, padding='post')"
      ]
    },
    {
      "cell_type": "markdown",
      "metadata": {
        "id": "FqEmb_Dmo3j-"
      },
      "source": [
        "### Membangun Model Neural Network dengan Hyperparameter Tuning\n",
        "\n",
        "- **`def build_model(hp):`**  \n",
        "  Fungsi untuk membangun arsitektur model Keras. Parameter `hp` digunakan untuk memilih nilai hyperparameter secara dinamis melalui Keras Tuner.\n",
        "\n",
        "- **`keras.Sequential()`**  \n",
        "  Membuat model berurutan (sequential) di mana layer ditambahkan satu per satu.\n",
        "\n",
        "- **`layers.Embedding(input_dim=10000, output_dim=hp.Int(...), input_length=max_len)`**  \n",
        "  Layer embedding untuk mengubah token integer menjadi vektor berdimensi tetap.  \n",
        "  - `input_dim=10000`: jumlah kata unik yang dipertimbangkan.  \n",
        "  - `output_dim`: dimensi vektor embedding, ditentukan oleh Keras Tuner antara 16–64.  \n",
        "  - `input_length=max_len`: panjang input tetap (setelah padding).\n",
        "\n",
        "- **`layers.Bidirectional(layers.LSTM(...))`**  \n",
        "  Layer LSTM dua arah untuk menangkap konteks dari kedua arah teks.  \n",
        "  - `units`: jumlah unit LSTM, ditentukan oleh tuner (32–128).  \n",
        "  - `return_sequences=False`: hanya mengembalikan output akhir (bukan seluruh urutan).\n",
        "\n",
        "- **`layers.Dense(..., activation='relu')`**  \n",
        "  Fully-connected layer untuk proses klasifikasi lanjutan.  \n",
        "  - `units`: jumlah neuron, ditentukan oleh tuner (16–64).  \n",
        "  - `activation='relu'`: fungsi aktivasi ReLU untuk memperkenalkan non-linearitas.\n",
        "\n",
        "- **`layers.Dropout(...)`**  \n",
        "  Dropout layer untuk mencegah overfitting dengan cara mengabaikan sejumlah neuron secara acak selama pelatihan.  \n",
        "  - `rate`: nilai dropout, ditentukan oleh tuner (antara 0.2–0.5).\n",
        "\n",
        "- **`layers.Dense(1, activation='sigmoid')`**  \n",
        "  Layer output untuk klasifikasi biner. Menghasilkan probabilitas antara 0 dan 1.  \n",
        "  - `1 neuron`: cukup karena hanya ada dua kelas.  \n",
        "  - `activation='sigmoid'`: fungsi aktivasi untuk output biner.\n",
        "\n",
        "- **`model.compile(...)`**  \n",
        "  Menyusun model dengan:  \n",
        "  - Optimizer: `Adam`, dengan learning rate 0.001 atau 0.0001 (ditentukan oleh tuner).  \n",
        "  - Loss function: `binary_crossentropy`, digunakan untuk klasifikasi dua kelas.  \n",
        "  - Metrics: `accuracy`, untuk mengevaluasi performa model.\n",
        "\n",
        "- **`return model`**  \n",
        "  Mengembalikan model yang telah dikonfigurasi untuk digunakan dalam proses tuning dan pelatihan.\n"
      ]
    },
    {
      "cell_type": "code",
      "execution_count": 11,
      "metadata": {
        "id": "eJ1vKUvtf3uZ"
      },
      "outputs": [],
      "source": [
        "def build_model(hp):\n",
        "    model = keras.Sequential()\n",
        "    model.add(layers.Embedding(input_dim=10000, output_dim=hp.Int('embed_dim', 16, 64, step=16), input_length=max_len))\n",
        "    model.add(layers.Bidirectional(layers.LSTM(units=hp.Int('lstm_units', 32, 128, step=32), return_sequences=False)))\n",
        "    model.add(layers.Dense(units=hp.Int('dense_units', 16, 64, step=16), activation='relu'))\n",
        "    model.add(layers.Dropout(hp.Float('dropout_rate', 0.2, 0.5, step=0.1)))\n",
        "    model.add(layers.Dense(1, activation='sigmoid'))\n",
        "\n",
        "    model.compile(\n",
        "        optimizer=keras.optimizers.Adam(learning_rate=hp.Choice('lr', [1e-3, 1e-4])),\n",
        "        loss='binary_crossentropy',\n",
        "        metrics=['accuracy']\n",
        "    )\n",
        "    return model"
      ]
    },
    {
      "cell_type": "markdown",
      "metadata": {
        "id": "sh0e_8a3o5tP"
      },
      "source": [
        "### Inisialisasi Hyperband Tuner\n",
        "\n",
        "- **`kt.Hyperband(...)`**  \n",
        "  Membuat objek tuner menggunakan algoritma Hyperband dari Keras Tuner, untuk mencari kombinasi hyperparameter terbaik berdasarkan akurasi validasi.\n",
        "\n",
        "- **`build_model`**  \n",
        "  Fungsi yang akan digunakan untuk membangun model dengan parameter yang akan dituning.\n",
        "\n",
        "- **`objective='val_accuracy'`**  \n",
        "  Target metrik yang akan dioptimasi selama tuning, yaitu akurasi pada data validasi.\n",
        "\n",
        "- **`max_epochs=10`**  \n",
        "  Jumlah maksimum epoch pelatihan untuk konfigurasi model terbaik.\n",
        "\n",
        "- **`factor=3`**  \n",
        "  Menentukan seberapa cepat model dengan performa rendah akan dieliminasi pada setiap iterasi. Nilai ini mengatur strategi pengurangan sumber daya.\n",
        "\n",
        "- **`directory='keras_tuner_dir'`**  \n",
        "  Direktori lokal tempat hasil tuning akan disimpan.\n",
        "\n",
        "- **`project_name='sentiment_analysis_hyperband'`**  \n",
        "  Nama proyek tuning yang akan digunakan sebagai nama subfolder di dalam direktori.\n"
      ]
    },
    {
      "cell_type": "code",
      "execution_count": 13,
      "metadata": {
        "id": "WHKWGRkUf6xv"
      },
      "outputs": [],
      "source": [
        "tuner = kt.Hyperband(\n",
        "    build_model,\n",
        "    objective='val_accuracy',\n",
        "    max_epochs=10,\n",
        "    factor=3,\n",
        "    directory='keras_tuner_dir',\n",
        "    project_name='sentiment_analysis_hyperband'\n",
        ")"
      ]
    },
    {
      "cell_type": "markdown",
      "metadata": {
        "id": "ZV2L8msypATX"
      },
      "source": [
        "### Menjalankan Hyperparameter Tuning dengan Early Stopping\n",
        "\n",
        "- **`stop_early = keras.callbacks.EarlyStopping(monitor='val_loss', patience=3)`**  \n",
        "  Membuat callback `EarlyStopping` untuk menghentikan pelatihan lebih awal jika `val_loss` tidak membaik setelah 3 epoch berturut-turut.  \n",
        "  Ini membantu mencegah overfitting dan menghemat waktu pelatihan.\n",
        "\n",
        "- **`tuner.search(X_train_pad, y_train, epochs=20, validation_split=0.2, callbacks=[stop_early])`**  \n",
        "  Menjalankan proses pencarian hyperparameter menggunakan data latih (`X_train_pad`, `y_train`) selama maksimal 20 epoch.  \n",
        "  - `validation_split=0.2`: 20% dari data latih digunakan sebagai data validasi.  \n",
        "  - `callbacks=[stop_early]`: menyisipkan mekanisme early stopping ke dalam proses pelatihan model selama tuning.\n"
      ]
    },
    {
      "cell_type": "code",
      "execution_count": 14,
      "metadata": {
        "colab": {
          "base_uri": "https://localhost:8080/"
        },
        "id": "ABskL6nof-m8",
        "outputId": "27320c1b-c73a-4ae2-cc13-eb71366eb4d2"
      },
      "outputs": [
        {
          "name": "stdout",
          "output_type": "stream",
          "text": [
            "Trial 30 Complete [00h 00m 05s]\n",
            "val_accuracy: 0.5833333134651184\n",
            "\n",
            "Best val_accuracy So Far: 0.7708333134651184\n",
            "Total elapsed time: 00h 02m 04s\n"
          ]
        }
      ],
      "source": [
        "stop_early = keras.callbacks.EarlyStopping(monitor='val_loss', patience=3)\n",
        "tuner.search(X_train_pad, y_train, epochs=20, validation_split=0.2, callbacks=[stop_early])"
      ]
    },
    {
      "cell_type": "markdown",
      "metadata": {
        "id": "dzf-npuypFk2"
      },
      "source": [
        "### Menampilkan Hyperparameter Terbaik dari Hasil Tuning\n",
        "\n",
        "- **`best_hps = tuner.get_best_hyperparameters(num_trials=1)[0]`**  \n",
        "  Mengambil kombinasi hyperparameter terbaik dari proses tuning.  \n",
        "  `num_trials=1` berarti hanya mengambil 1 set terbaik berdasarkan metrik objektif (val_accuracy).\n",
        "\n",
        "- **`print(...)`**  \n",
        "  Menampilkan nilai-nilai hyperparameter terbaik yang ditemukan oleh tuner, yaitu:\n",
        "  - `Embedding Dimension`: dimensi vektor dari layer embedding.\n",
        "  - `LSTM Units`: jumlah unit pada layer LSTM.\n",
        "  - `Dense Units`: jumlah neuron pada layer dense.\n",
        "  - `Dropout Rate`: tingkat dropout untuk mengurangi overfitting.\n",
        "  - `Learning Rate`: kecepatan pembelajaran untuk optimizer.\n"
      ]
    },
    {
      "cell_type": "code",
      "execution_count": 15,
      "metadata": {
        "colab": {
          "base_uri": "https://localhost:8080/"
        },
        "id": "EfDHg8segJQF",
        "outputId": "fab99e85-b2d9-4b8b-e057-921481e8ad12"
      },
      "outputs": [
        {
          "name": "stdout",
          "output_type": "stream",
          "text": [
            "Best Hyperparameters:\n",
            "Embedding Dimension: 16\n",
            "LSTM Units: 96\n",
            "Dense Units: 48\n",
            "Dropout Rate: 0.4\n",
            "Learning Rate: 0.001\n"
          ]
        }
      ],
      "source": [
        "best_hps = tuner.get_best_hyperparameters(num_trials=1)[0]\n",
        "\n",
        "print(\"Best Hyperparameters:\")\n",
        "print(f\"Embedding Dimension: {best_hps.get('embed_dim')}\")\n",
        "print(f\"LSTM Units: {best_hps.get('lstm_units')}\")\n",
        "print(f\"Dense Units: {best_hps.get('dense_units')}\")\n",
        "print(f\"Dropout Rate: {best_hps.get('dropout_rate')}\")\n",
        "print(f\"Learning Rate: {best_hps.get('lr')}\")"
      ]
    },
    {
      "cell_type": "markdown",
      "metadata": {
        "id": "X6Fpog_1pJJO"
      },
      "source": [
        "### Membangun Ulang Model dengan Hyperparameter Terbaik\n",
        "\n",
        "- **`model = build_model(best_hps)`**  \n",
        "  Membuat ulang model neural network menggunakan kombinasi hyperparameter terbaik yang diperoleh dari proses tuning.\n",
        "\n",
        "- **`model.build(input_shape=(None, max_len))`**  \n",
        "  Membangun arsitektur model secara eksplisit dengan bentuk input tertentu.  \n",
        "  - `None`: menandakan ukuran batch bersifat fleksibel.  \n",
        "  - `max_len`: panjang input (jumlah token per teks) yang sudah ditentukan saat padding.  \n",
        "  Baris ini diperlukan agar `model.summary()` bisa menampilkan struktur dan jumlah parameter model secara lengkap sebelum pelatihan.\n"
      ]
    },
    {
      "cell_type": "code",
      "execution_count": 16,
      "metadata": {
        "id": "YasMI3JngYK8"
      },
      "outputs": [],
      "source": [
        "model = build_model(best_hps)\n",
        "model.build(input_shape=(None, max_len))"
      ]
    },
    {
      "cell_type": "markdown",
      "metadata": {
        "id": "FfSAr8_npL39"
      },
      "source": [
        "### Menampilkan Ringkasan Arsitektur Model\n",
        "\n",
        "- **`model.summary()`**  \n",
        "  Menampilkan struktur lengkap model neural network, termasuk:\n",
        "  - Nama dan jenis setiap layer\n",
        "  - Output shape dari tiap layer\n",
        "  - Jumlah parameter yang dapat dilatih (trainable) dan tidak dapat dilatih (non-trainable)\n",
        "\n",
        "Digunakan untuk memverifikasi arsitektur model sebelum proses pelatihan dimulai.\n"
      ]
    },
    {
      "cell_type": "code",
      "execution_count": 17,
      "metadata": {
        "colab": {
          "base_uri": "https://localhost:8080/",
          "height": 306
        },
        "id": "mY-gfN6dhWhu",
        "outputId": "2726c733-3ce6-4bde-ff7c-234f5ce2fc47"
      },
      "outputs": [
        {
          "data": {
            "text/html": [
              "<pre style=\"white-space:pre;overflow-x:auto;line-height:normal;font-family:Menlo,'DejaVu Sans Mono',consolas,'Courier New',monospace\"><span style=\"font-weight: bold\">Model: \"sequential_1\"</span>\n",
              "</pre>\n"
            ],
            "text/plain": [
              "\u001b[1mModel: \"sequential_1\"\u001b[0m\n"
            ]
          },
          "metadata": {},
          "output_type": "display_data"
        },
        {
          "data": {
            "text/html": [
              "<pre style=\"white-space:pre;overflow-x:auto;line-height:normal;font-family:Menlo,'DejaVu Sans Mono',consolas,'Courier New',monospace\">┏━━━━━━━━━━━━━━━━━━━━━━━━━━━━━━━━━┳━━━━━━━━━━━━━━━━━━━━━━━━┳━━━━━━━━━━━━━━━┓\n",
              "┃<span style=\"font-weight: bold\"> Layer (type)                    </span>┃<span style=\"font-weight: bold\"> Output Shape           </span>┃<span style=\"font-weight: bold\">       Param # </span>┃\n",
              "┡━━━━━━━━━━━━━━━━━━━━━━━━━━━━━━━━━╇━━━━━━━━━━━━━━━━━━━━━━━━╇━━━━━━━━━━━━━━━┩\n",
              "│ embedding_1 (<span style=\"color: #0087ff; text-decoration-color: #0087ff\">Embedding</span>)         │ (<span style=\"color: #00d7ff; text-decoration-color: #00d7ff\">None</span>, <span style=\"color: #00af00; text-decoration-color: #00af00\">21</span>, <span style=\"color: #00af00; text-decoration-color: #00af00\">16</span>)         │       <span style=\"color: #00af00; text-decoration-color: #00af00\">160,000</span> │\n",
              "├─────────────────────────────────┼────────────────────────┼───────────────┤\n",
              "│ bidirectional_1 (<span style=\"color: #0087ff; text-decoration-color: #0087ff\">Bidirectional</span>) │ (<span style=\"color: #00d7ff; text-decoration-color: #00d7ff\">None</span>, <span style=\"color: #00af00; text-decoration-color: #00af00\">192</span>)            │        <span style=\"color: #00af00; text-decoration-color: #00af00\">86,784</span> │\n",
              "├─────────────────────────────────┼────────────────────────┼───────────────┤\n",
              "│ dense_2 (<span style=\"color: #0087ff; text-decoration-color: #0087ff\">Dense</span>)                 │ (<span style=\"color: #00d7ff; text-decoration-color: #00d7ff\">None</span>, <span style=\"color: #00af00; text-decoration-color: #00af00\">48</span>)             │         <span style=\"color: #00af00; text-decoration-color: #00af00\">9,264</span> │\n",
              "├─────────────────────────────────┼────────────────────────┼───────────────┤\n",
              "│ dropout_1 (<span style=\"color: #0087ff; text-decoration-color: #0087ff\">Dropout</span>)             │ (<span style=\"color: #00d7ff; text-decoration-color: #00d7ff\">None</span>, <span style=\"color: #00af00; text-decoration-color: #00af00\">48</span>)             │             <span style=\"color: #00af00; text-decoration-color: #00af00\">0</span> │\n",
              "├─────────────────────────────────┼────────────────────────┼───────────────┤\n",
              "│ dense_3 (<span style=\"color: #0087ff; text-decoration-color: #0087ff\">Dense</span>)                 │ (<span style=\"color: #00d7ff; text-decoration-color: #00d7ff\">None</span>, <span style=\"color: #00af00; text-decoration-color: #00af00\">1</span>)              │            <span style=\"color: #00af00; text-decoration-color: #00af00\">49</span> │\n",
              "└─────────────────────────────────┴────────────────────────┴───────────────┘\n",
              "</pre>\n"
            ],
            "text/plain": [
              "┏━━━━━━━━━━━━━━━━━━━━━━━━━━━━━━━━━┳━━━━━━━━━━━━━━━━━━━━━━━━┳━━━━━━━━━━━━━━━┓\n",
              "┃\u001b[1m \u001b[0m\u001b[1mLayer (type)                   \u001b[0m\u001b[1m \u001b[0m┃\u001b[1m \u001b[0m\u001b[1mOutput Shape          \u001b[0m\u001b[1m \u001b[0m┃\u001b[1m \u001b[0m\u001b[1m      Param #\u001b[0m\u001b[1m \u001b[0m┃\n",
              "┡━━━━━━━━━━━━━━━━━━━━━━━━━━━━━━━━━╇━━━━━━━━━━━━━━━━━━━━━━━━╇━━━━━━━━━━━━━━━┩\n",
              "│ embedding_1 (\u001b[38;5;33mEmbedding\u001b[0m)         │ (\u001b[38;5;45mNone\u001b[0m, \u001b[38;5;34m21\u001b[0m, \u001b[38;5;34m16\u001b[0m)         │       \u001b[38;5;34m160,000\u001b[0m │\n",
              "├─────────────────────────────────┼────────────────────────┼───────────────┤\n",
              "│ bidirectional_1 (\u001b[38;5;33mBidirectional\u001b[0m) │ (\u001b[38;5;45mNone\u001b[0m, \u001b[38;5;34m192\u001b[0m)            │        \u001b[38;5;34m86,784\u001b[0m │\n",
              "├─────────────────────────────────┼────────────────────────┼───────────────┤\n",
              "│ dense_2 (\u001b[38;5;33mDense\u001b[0m)                 │ (\u001b[38;5;45mNone\u001b[0m, \u001b[38;5;34m48\u001b[0m)             │         \u001b[38;5;34m9,264\u001b[0m │\n",
              "├─────────────────────────────────┼────────────────────────┼───────────────┤\n",
              "│ dropout_1 (\u001b[38;5;33mDropout\u001b[0m)             │ (\u001b[38;5;45mNone\u001b[0m, \u001b[38;5;34m48\u001b[0m)             │             \u001b[38;5;34m0\u001b[0m │\n",
              "├─────────────────────────────────┼────────────────────────┼───────────────┤\n",
              "│ dense_3 (\u001b[38;5;33mDense\u001b[0m)                 │ (\u001b[38;5;45mNone\u001b[0m, \u001b[38;5;34m1\u001b[0m)              │            \u001b[38;5;34m49\u001b[0m │\n",
              "└─────────────────────────────────┴────────────────────────┴───────────────┘\n"
            ]
          },
          "metadata": {},
          "output_type": "display_data"
        },
        {
          "data": {
            "text/html": [
              "<pre style=\"white-space:pre;overflow-x:auto;line-height:normal;font-family:Menlo,'DejaVu Sans Mono',consolas,'Courier New',monospace\"><span style=\"font-weight: bold\"> Total params: </span><span style=\"color: #00af00; text-decoration-color: #00af00\">256,097</span> (1000.38 KB)\n",
              "</pre>\n"
            ],
            "text/plain": [
              "\u001b[1m Total params: \u001b[0m\u001b[38;5;34m256,097\u001b[0m (1000.38 KB)\n"
            ]
          },
          "metadata": {},
          "output_type": "display_data"
        },
        {
          "data": {
            "text/html": [
              "<pre style=\"white-space:pre;overflow-x:auto;line-height:normal;font-family:Menlo,'DejaVu Sans Mono',consolas,'Courier New',monospace\"><span style=\"font-weight: bold\"> Trainable params: </span><span style=\"color: #00af00; text-decoration-color: #00af00\">256,097</span> (1000.38 KB)\n",
              "</pre>\n"
            ],
            "text/plain": [
              "\u001b[1m Trainable params: \u001b[0m\u001b[38;5;34m256,097\u001b[0m (1000.38 KB)\n"
            ]
          },
          "metadata": {},
          "output_type": "display_data"
        },
        {
          "data": {
            "text/html": [
              "<pre style=\"white-space:pre;overflow-x:auto;line-height:normal;font-family:Menlo,'DejaVu Sans Mono',consolas,'Courier New',monospace\"><span style=\"font-weight: bold\"> Non-trainable params: </span><span style=\"color: #00af00; text-decoration-color: #00af00\">0</span> (0.00 B)\n",
              "</pre>\n"
            ],
            "text/plain": [
              "\u001b[1m Non-trainable params: \u001b[0m\u001b[38;5;34m0\u001b[0m (0.00 B)\n"
            ]
          },
          "metadata": {},
          "output_type": "display_data"
        }
      ],
      "source": [
        "model.summary()"
      ]
    },
    {
      "cell_type": "markdown",
      "metadata": {
        "id": "zYZMIdtXpR0u"
      },
      "source": [
        "### Melatih Model dengan Data Latih\n",
        "\n",
        "- **`history = model.fit(...)`**  \n",
        "  Melatih model neural network menggunakan data latih yang sudah diproses.\n",
        "\n",
        "  - `X_train_pad`, `y_train`: input dan label dari data latih.\n",
        "  - `epochs=10`: jumlah iterasi penuh melintasi seluruh dataset latih sebanyak 10 kali.\n",
        "  - `validation_split=0.2`: 20% dari data latih digunakan sebagai data validasi.\n",
        "  - `verbose=1`: menampilkan progress training secara detail di output.\n",
        "\n",
        "Hasil pelatihan akan disimpan dalam variabel `history`, yang dapat digunakan untuk visualisasi akurasi dan loss.\n"
      ]
    },
    {
      "cell_type": "code",
      "execution_count": 18,
      "metadata": {
        "colab": {
          "base_uri": "https://localhost:8080/"
        },
        "id": "8XX-dylTgam2",
        "outputId": "37668daf-0233-477f-9197-00a5ca61cf79"
      },
      "outputs": [
        {
          "name": "stdout",
          "output_type": "stream",
          "text": [
            "Epoch 1/10\n",
            "\u001b[1m6/6\u001b[0m \u001b[32m━━━━━━━━━━━━━━━━━━━━\u001b[0m\u001b[37m\u001b[0m \u001b[1m3s\u001b[0m 85ms/step - accuracy: 0.5933 - loss: 0.6919 - val_accuracy: 0.5833 - val_loss: 0.6869\n",
            "Epoch 2/10\n",
            "\u001b[1m6/6\u001b[0m \u001b[32m━━━━━━━━━━━━━━━━━━━━\u001b[0m\u001b[37m\u001b[0m \u001b[1m0s\u001b[0m 19ms/step - accuracy: 0.5455 - loss: 0.6886 - val_accuracy: 0.5833 - val_loss: 0.6847\n",
            "Epoch 3/10\n",
            "\u001b[1m6/6\u001b[0m \u001b[32m━━━━━━━━━━━━━━━━━━━━\u001b[0m\u001b[37m\u001b[0m \u001b[1m0s\u001b[0m 19ms/step - accuracy: 0.4894 - loss: 0.6929 - val_accuracy: 0.5833 - val_loss: 0.6843\n",
            "Epoch 4/10\n",
            "\u001b[1m6/6\u001b[0m \u001b[32m━━━━━━━━━━━━━━━━━━━━\u001b[0m\u001b[37m\u001b[0m \u001b[1m0s\u001b[0m 19ms/step - accuracy: 0.5234 - loss: 0.6893 - val_accuracy: 0.5833 - val_loss: 0.6814\n",
            "Epoch 5/10\n",
            "\u001b[1m6/6\u001b[0m \u001b[32m━━━━━━━━━━━━━━━━━━━━\u001b[0m\u001b[37m\u001b[0m \u001b[1m0s\u001b[0m 20ms/step - accuracy: 0.5552 - loss: 0.6781 - val_accuracy: 0.5833 - val_loss: 0.6735\n",
            "Epoch 6/10\n",
            "\u001b[1m6/6\u001b[0m \u001b[32m━━━━━━━━━━━━━━━━━━━━\u001b[0m\u001b[37m\u001b[0m \u001b[1m0s\u001b[0m 19ms/step - accuracy: 0.6285 - loss: 0.6519 - val_accuracy: 0.6875 - val_loss: 0.6671\n",
            "Epoch 7/10\n",
            "\u001b[1m6/6\u001b[0m \u001b[32m━━━━━━━━━━━━━━━━━━━━\u001b[0m\u001b[37m\u001b[0m \u001b[1m0s\u001b[0m 20ms/step - accuracy: 0.8703 - loss: 0.6254 - val_accuracy: 0.6875 - val_loss: 0.6279\n",
            "Epoch 8/10\n",
            "\u001b[1m6/6\u001b[0m \u001b[32m━━━━━━━━━━━━━━━━━━━━\u001b[0m\u001b[37m\u001b[0m \u001b[1m0s\u001b[0m 19ms/step - accuracy: 0.7860 - loss: 0.5157 - val_accuracy: 0.6667 - val_loss: 0.5555\n",
            "Epoch 9/10\n",
            "\u001b[1m6/6\u001b[0m \u001b[32m━━━━━━━━━━━━━━━━━━━━\u001b[0m\u001b[37m\u001b[0m \u001b[1m0s\u001b[0m 19ms/step - accuracy: 0.9516 - loss: 0.2011 - val_accuracy: 0.5833 - val_loss: 1.0532\n",
            "Epoch 10/10\n",
            "\u001b[1m6/6\u001b[0m \u001b[32m━━━━━━━━━━━━━━━━━━━━\u001b[0m\u001b[37m\u001b[0m \u001b[1m0s\u001b[0m 19ms/step - accuracy: 0.9930 - loss: 0.0589 - val_accuracy: 0.6250 - val_loss: 1.3674\n"
          ]
        }
      ],
      "source": [
        "history = model.fit(\n",
        "    X_train_pad,\n",
        "    y_train,\n",
        "    epochs=10,\n",
        "    validation_split=0.2,\n",
        "    verbose=1\n",
        ")"
      ]
    },
    {
      "cell_type": "markdown",
      "metadata": {
        "id": "3JYTiGDupbpE"
      },
      "source": [
        "### Visualisasi Akurasi dan Loss Selama Pelatihan\n",
        "\n",
        "- **`history.history[...]`**  \n",
        "  Mengambil data akurasi dan loss dari proses pelatihan yang tersimpan dalam objek `history`, baik untuk data training maupun validasi.\n",
        "\n",
        "- **`plt.subplot(1, 2, 1)`**  \n",
        "  Membuat plot pertama untuk menampilkan perbandingan antara akurasi pelatihan (`accuracy`) dan akurasi validasi (`val_accuracy`).\n",
        "\n",
        "- **`plt.subplot(1, 2, 2)`**  \n",
        "  Membuat plot kedua untuk menampilkan perbandingan antara loss pelatihan (`loss`) dan loss validasi (`val_loss`).\n",
        "\n",
        "- **`plt.legend()` dan `plt.title()`**  \n",
        "  Menambahkan legenda dan judul pada masing-masing grafik untuk memperjelas isi visualisasi.\n",
        "\n",
        "- **`plt.show()`**  \n",
        "  Menampilkan seluruh grafik dalam satu tampilan.\n",
        "\n",
        "Tujuan visualisasi ini adalah untuk memantau apakah model mengalami overfitting atau underfitting selama pelatihan.\n"
      ]
    },
    {
      "cell_type": "code",
      "execution_count": 19,
      "metadata": {
        "colab": {
          "base_uri": "https://localhost:8080/",
          "height": 468
        },
        "id": "gXE6DPLVhc13",
        "outputId": "eedbfca5-4db2-40cf-8270-7ac84f9b3e5c"
      },
      "outputs": [
        {
          "data": {
            "image/png": "[encoded data removed]",
            "text/plain": [
              "<Figure size 1200x500 with 2 Axes>"
            ]
          },
          "metadata": {},
          "output_type": "display_data"
        }
      ],
      "source": [
        "acc = history.history['accuracy']\n",
        "val_acc = history.history['val_accuracy']\n",
        "loss = history.history['loss']\n",
        "val_loss = history.history['val_loss']\n",
        "epochs_range = range(len(acc))\n",
        "\n",
        "plt.figure(figsize=(12, 5))\n",
        "plt.subplot(1, 2, 1)\n",
        "plt.plot(epochs_range, acc, label='Training Accuracy')\n",
        "plt.plot(epochs_range, val_acc, label='Validation Accuracy')\n",
        "plt.legend(loc='lower right')\n",
        "plt.title('Training vs Validation Accuracy')\n",
        "plt.subplot(1, 2, 2)\n",
        "plt.plot(epochs_range, loss, label='Training Loss')\n",
        "plt.plot(epochs_range, val_loss, label='Validation Loss')\n",
        "plt.legend(loc='upper right')\n",
        "plt.title('Training vs Validation Loss')\n",
        "\n",
        "plt.show()"
      ]
    },
    {
      "cell_type": "markdown",
      "metadata": {
        "id": "ZnPJPZWhpjXg"
      },
      "source": [
        "### Evaluasi Model pada Data Uji\n",
        "\n",
        "- **`model.evaluate(X_test_pad, y_test)`**  \n",
        "  Mengukur performa model pada data uji menggunakan metrik yang telah ditentukan saat `compile` (dalam hal ini: loss dan accuracy).\n",
        "\n",
        "- **`loss, acc = ...`**  \n",
        "  Menyimpan nilai loss dan akurasi dari hasil evaluasi ke dalam variabel `loss` dan `acc`.\n",
        "\n",
        "- **`print(f\"Test Loss: {loss:.4f}\")`**  \n",
        "  Menampilkan nilai loss pada data uji hingga 4 digit desimal.\n",
        "\n",
        "- **`print(f\"Test Accuracy: {acc:.4f}\")`**  \n",
        "  Menampilkan akurasi model pada data uji hingga 4 digit desimal.\n",
        "\n",
        "Langkah ini penting untuk mengetahui sejauh mana model dapat menggeneralisasi terhadap data yang belum pernah dilihat sebelumnya.\n"
      ]
    },
    {
      "cell_type": "code",
      "execution_count": 20,
      "metadata": {
        "colab": {
          "base_uri": "https://localhost:8080/"
        },
        "id": "pPXHUqWrgenH",
        "outputId": "8b114e7b-a7a3-419e-a939-36b28bcf17fe"
      },
      "outputs": [
        {
          "name": "stdout",
          "output_type": "stream",
          "text": [
            "\u001b[1m2/2\u001b[0m \u001b[32m━━━━━━━━━━━━━━━━━━━━\u001b[0m\u001b[37m\u001b[0m \u001b[1m0s\u001b[0m 24ms/step - accuracy: 0.7931 - loss: 0.7938\n",
            "Test Loss: 0.8715\n",
            "Test Accuracy: 0.7833\n"
          ]
        }
      ],
      "source": [
        "loss, acc = model.evaluate(X_test_pad, y_test)\n",
        "print(f\"Test Loss: {loss:.4f}\")\n",
        "print(f\"Test Accuracy: {acc:.4f}\")"
      ]
    },
    {
      "cell_type": "markdown",
      "metadata": {
        "id": "_r4DoAq4pkwz"
      },
      "source": [
        "### Melakukan Prediksi pada Data Uji\n",
        "\n",
        "- **`model.predict(X_test_pad)`**  \n",
        "  Menghasilkan probabilitas prediksi untuk setiap sampel pada data uji.  \n",
        "  Karena model menggunakan `sigmoid` di output, hasil prediksi berupa nilai antara 0 dan 1.\n",
        "\n",
        "- **`y_pred_labels = (y_pred_probs > 0.5).astype(int)`**  \n",
        "  Mengubah probabilitas menjadi label kelas biner:\n",
        "  - Jika nilai probabilitas lebih dari 0.5 → diklasifikasikan sebagai kelas 1.\n",
        "  - Jika nilai probabilitas kurang dari atau sama dengan 0.5 → diklasifikasikan sebagai kelas 0.\n",
        "\n",
        "Langkah ini digunakan untuk menyiapkan hasil prediksi yang bisa dibandingkan langsung dengan label sebenarnya (`y_test`).\n"
      ]
    },
    {
      "cell_type": "code",
      "execution_count": 21,
      "metadata": {
        "colab": {
          "base_uri": "https://localhost:8080/"
        },
        "id": "W-MAF1rJghoV",
        "outputId": "bc0ea725-8df6-434b-ca71-017cb03b5e12"
      },
      "outputs": [
        {
          "name": "stdout",
          "output_type": "stream",
          "text": [
            "\u001b[1m2/2\u001b[0m \u001b[32m━━━━━━━━━━━━━━━━━━━━\u001b[0m\u001b[37m\u001b[0m \u001b[1m0s\u001b[0m 210ms/step\n"
          ]
        }
      ],
      "source": [
        "y_pred_probs = model.predict(X_test_pad)\n",
        "y_pred_labels = (y_pred_probs > 0.5).astype(int)"
      ]
    },
    {
      "cell_type": "markdown",
      "metadata": {
        "id": "5NR90z6JpqTb"
      },
      "source": [
        "### Menampilkan Laporan Klasifikasi\n",
        "\n",
        "- **`classification_report(y_test, y_pred_labels, target_names=le.classes_)`**  \n",
        "  Menghasilkan laporan evaluasi performa klasifikasi model dalam bentuk metrik:\n",
        "  - **Precision**: proporsi prediksi positif yang benar.\n",
        "  - **Recall**: proporsi data aktual positif yang berhasil diprediksi dengan benar.\n",
        "  - **F1-score**: harmonisasi antara precision dan recall.\n",
        "  - **Support**: jumlah data aktual untuk masing-masing kelas.\n",
        "\n",
        "- **`target_names=le.classes_`**  \n",
        "  Menampilkan label kelas dalam bentuk aslinya (misalnya 'positive', 'negative'), bukan dalam bentuk angka.\n",
        "\n",
        "- **`print(...)`**  \n",
        "  Menampilkan laporan ke layar.\n",
        "\n",
        "Laporan ini berguna untuk menganalisis kekuatan dan kelemahan model terhadap masing-masing kelas.\n"
      ]
    },
    {
      "cell_type": "code",
      "execution_count": 23,
      "metadata": {
        "colab": {
          "base_uri": "https://localhost:8080/"
        },
        "id": "3ufgizSYgkmQ",
        "outputId": "f732d77d-fc6a-4513-f198-4c7791b48845"
      },
      "outputs": [
        {
          "name": "stdout",
          "output_type": "stream",
          "text": [
            "\n",
            "Classification Report:\n",
            "\n",
            "              precision    recall  f1-score   support\n",
            "\n",
            "    negative       0.81      0.79      0.80        33\n",
            "    positive       0.75      0.78      0.76        27\n",
            "\n",
            "    accuracy                           0.78        60\n",
            "   macro avg       0.78      0.78      0.78        60\n",
            "weighted avg       0.78      0.78      0.78        60\n",
            "\n"
          ]
        }
      ],
      "source": [
        "print(\"\\nClassification Report:\\n\")\n",
        "print(classification_report(y_test, y_pred_labels, target_names=le.classes_))"
      ]
    },
    {
      "cell_type": "markdown",
      "metadata": {
        "id": "pSvE_skJpxGJ"
      },
      "source": [
        "### Visualisasi Confusion Matrix\n",
        "\n",
        "- **`confusion_matrix(y_test, y_pred_labels)`**  \n",
        "  Menghasilkan confusion matrix, yaitu tabel yang menunjukkan jumlah prediksi benar dan salah untuk masing-masing kelas.\n",
        "\n",
        "- **`sns.heatmap(...)`**  \n",
        "  Menggunakan Seaborn untuk menampilkan confusion matrix dalam bentuk heatmap agar lebih mudah dianalisis secara visual.\n",
        "  - `annot=True`: menampilkan nilai angka dalam tiap kotak.\n",
        "  - `fmt='d'`: menampilkan angka dalam format bilangan bulat.\n",
        "  - `cmap=\"Blues\"`: memilih skema warna biru.\n",
        "  - `xticklabels` dan `yticklabels`: menampilkan label kelas sebenarnya.\n",
        "\n",
        "- **`plt.title(...)`, `plt.xlabel(...)`, `plt.ylabel(...)`**  \n",
        "  Memberikan judul dan label sumbu pada grafik.\n",
        "\n",
        "- **`plt.show()`**  \n",
        "  Menampilkan visualisasi heatmap ke output.\n",
        "\n",
        "Confusion matrix berguna untuk mengevaluasi kesalahan klasifikasi dan distribusi prediksi model terhadap masing-masing kelas.\n"
      ]
    },
    {
      "cell_type": "code",
      "execution_count": 25,
      "metadata": {
        "colab": {
          "base_uri": "https://localhost:8080/",
          "height": 472
        },
        "id": "pmiI-4cqgnL6",
        "outputId": "bc429683-b1b7-4b21-ae32-2169383bdf74"
      },
      "outputs": [
        {
          "data": {
            "image/png": "[encoded data removed]",
            "text/plain": [
              "<Figure size 640x480 with 2 Axes>"
            ]
          },
          "metadata": {},
          "output_type": "display_data"
        }
      ],
      "source": [
        "conf_matrix = confusion_matrix(y_test, y_pred_labels)\n",
        "sns.heatmap(conf_matrix, annot=True, fmt='d', cmap=\"Blues\",\n",
        "            xticklabels=le.classes_, yticklabels=le.classes_)\n",
        "plt.title(\"Confusion Matrix\")\n",
        "plt.xlabel(\"Predicted\")\n",
        "plt.ylabel(\"Actual\")\n",
        "plt.show()"
      ]
    },
    {
      "cell_type": "markdown",
      "metadata": {
        "id": "zt2bmj5Np5ZC"
      },
      "source": [
        "#**Case 1 | Task 2**"
      ]
    },
    {
      "cell_type": "markdown",
      "metadata": {
        "id": "7Q6VNr3Dp7Wz"
      },
      "source": [
        "## 1. Informasi dan Insight yang Dapat Diperoleh dari Data\n",
        "\n",
        "Berdasarkan hasil eksplorasi dan pelatihan model menggunakan dataset `dataset_tweet_sentiment_cellular_service_provider.csv`, terdapat beberapa insight penting yang dapat diperoleh:\n",
        "\n",
        "- **Distribusi Sentimen**  \n",
        "  Dataset terdiri dari dua kelas sentimen, yaitu `positive` dan `negative`, masing-masing berjumlah seimbang (kurang lebih 50% untuk tiap kelas). Ini mendukung pelatihan model karena tidak terjadi bias terhadap salah satu kelas.\n",
        "\n",
        "- **Isi dan Karakteristik Teks**  \n",
        "  Tweet dengan sentimen `positive` umumnya berisi pujian, ucapan terima kasih, atau kata-kata positif. Sedangkan tweet dengan sentimen `negative` sering berisi keluhan terkait layanan seperti jaringan lemot, sinyal hilang, atau komplain terhadap provider.\n",
        "\n",
        "- **Kata Kunci Dominan**  \n",
        "  Analisis kata atau visualisasi word cloud dapat membantu menemukan kata kunci dominan untuk masing-masing kelas, misalnya:\n",
        "  - Sentimen negatif: “lemot”, “jaringan”, “tidak bisa”, “pendusta”\n",
        "  - Sentimen positif: “mantap”, “terima kasih”, “alhamdulillah”\n",
        "\n",
        "- **Performa Model Terhadap Data Nyata**  \n",
        "  Model mampu mengidentifikasi sentimen dengan cukup baik, ditunjukkan dari metrik evaluasi yang seimbang antara kelas `positive` dan `negative`.\n",
        "\n",
        "## 2. Evaluasi Performa Model\n",
        "\n",
        "### Akurasi Model\n",
        "\n",
        "Model yang dilatih menghasilkan **akurasi pada data uji sebesar 78.33%** (`Test Accuracy: 0.7833`).  \n",
        "Untuk ukuran dataset kecil (300 tweet, dengan 60 data uji), akurasi ini tergolong **cukup baik**, apalagi dengan model yang sederhana (LSTM + Embedding). Ini menunjukkan bahwa model mampu mengenali pola bahasa pada tweet yang berkaitan dengan sentimen.\n",
        "\n",
        "### Laporan Klasifikasi (Classification Report)\n",
        "\n",
        "| Label     | Precision | Recall | F1-Score | Jumlah Data |\n",
        "|-----------|-----------|--------|----------|-------------|\n",
        "| Negative  | 0.81      | 0.79   | 0.80     | 33          |\n",
        "| Positive  | 0.75      | 0.78   | 0.76     | 27          |\n",
        "| **Akurasi Total** |       –     |    –    | **0.78** | 60          |\n",
        "\n",
        "- **Precision**: proporsi prediksi yang benar dari seluruh prediksi kelas tertentu.\n",
        "- **Recall**: proporsi prediksi benar dibandingkan seluruh data aktual kelas tersebut.\n",
        "- **F1-score**: harmonisasi antara precision dan recall.\n",
        "\n",
        "Model menunjukkan kinerja yang **seimbang** antara dua kelas, walau performa terhadap `positive` sedikit lebih rendah.\n",
        "\n",
        "### Confusion Matrix\n",
        "\n",
        "```\n",
        "                 Predicted\n",
        "                 Neg    Pos\n",
        "Actual  Neg      26     7\n",
        "        Pos       6     21\n",
        "```\n",
        "\n",
        "- Model berhasil mengklasifikasikan 26 tweet negatif dan 21 tweet positif dengan benar.\n",
        "- Terdapat 13 kesalahan klasifikasi dari 60 data (7 false positive, 6 false negative).\n",
        "- Ini menunjukkan **model tidak bias ke salah satu kelas**, dan masih tergolong **stabil**.\n",
        "\n",
        "## 3. Visualisasi Pendukung\n",
        "\n",
        "- **Grafik Akurasi dan Loss**  \n",
        "  Digunakan untuk melihat dinamika pembelajaran. Terlihat bahwa model mengalami overfitting setelah beberapa epoch, di mana akurasi training naik drastis, sedangkan akurasi validasi stagnan.\n",
        "\n",
        "- **Confusion Matrix (Heatmap)**  \n",
        "  Mempermudah identifikasi titik kelemahan model terhadap masing-masing kelas. Visualisasi memperkuat pemahaman distribusi kesalahan.\n",
        "\n",
        "## 4. Rekomendasi Peningkatan Kualitas Data dan Model\n",
        "\n",
        "### Peningkatan Kualitas Data:\n",
        "- Tambahkan data tweet agar model belajar dari lebih banyak variasi.\n",
        "- Sertakan kelas tambahan seperti `neutral` untuk memperkaya klasifikasi.\n",
        "- Lakukan normalisasi lebih dalam (menghapus emoji, stopwords, dsb.).\n",
        "- Hilangkan duplikasi dan spam agar distribusi data bersih.\n",
        "\n",
        "### Peningkatan Model:\n",
        "- Gunakan **pre-trained embeddings** (seperti GloVe atau FastText) untuk pemahaman kata yang lebih baik.\n",
        "- Coba arsitektur lain seperti GRU, atau model transformer (misalnya BERT).\n",
        "- Tambahkan **regularisasi** (dropout lebih tinggi atau L2 regularization).\n",
        "- Gunakan **cross-validation** untuk evaluasi yang lebih konsisten.\n",
        "\n",
        "## 5. Kesimpulan\n",
        "\n",
        "Model klasifikasi sentimen berbasis LSTM berhasil mempelajari pola bahasa dalam tweet dan menghasilkan akurasi sekitar **78%**, dengan metrik evaluasi yang seimbang antar kelas.  \n",
        "Insight dari data mendukung pemahaman tentang persepsi pelanggan terhadap layanan provider seluler.  \n",
        "Meskipun masih dapat ditingkatkan, model ini sudah cukup layak untuk tugas klasifikasi awal dan bisa dikembangkan lebih lanjut dengan pendekatan yang lebih kompleks dan data yang lebih besar.\n"
      ]
    }
  ],
  "metadata": {
    "accelerator": "GPU",
    "colab": {
      "gpuType": "A100",
      "provenance": []
    },
    "kernelspec": {
      "display_name": "Python 3",
      "name": "python3"
    },
    "language_info": {
      "name": "python"
    }
  },
  "nbformat": 4,
  "nbformat_minor": 0
}
